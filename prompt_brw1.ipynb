{
 "cells": [
  {
   "cell_type": "markdown",
   "metadata": {
    "id": "CcUT6Fon_qRE"
   },
   "source": [
    "### Required Assignment 5.1: Will the Customer Accept the Coupon?\n",
    "\n",
    "**Context**\n",
    "\n",
    "Imagine driving through town and a coupon is delivered to your cell phone for a restaurant near where you are driving. Would you accept that coupon and take a short detour to the restaurant? Would you accept the coupon but use it on a subsequent trip? Would you ignore the coupon entirely? What if the coupon was for a bar instead of a restaurant? What about a coffee house? Would you accept a bar coupon with a minor passenger in the car? What about if it was just you and your partner in the car? Would weather impact the rate of acceptance? What about the time of day?\n",
    "\n",
    "Obviously, proximity to the business is a factor on whether the coupon is delivered to the driver or not, but what are the factors that determine whether a driver accepts the coupon once it is delivered to them? How would you determine whether a driver is likely to accept a coupon?\n",
    "\n",
    "**Overview**\n",
    "\n",
    "The goal of this project is to use what you know about visualizations and probability distributions to distinguish between customers who accepted a driving coupon versus those that did not.\n",
    "\n",
    "**Data**\n",
    "\n",
    "This data comes to us from the UCI Machine Learning repository and was collected via a survey on Amazon Mechanical Turk. The survey describes different driving scenarios including the destination, current time, weather, passenger, etc., and then ask the person whether he will accept the coupon if he is the driver. Answers that the user will drive there ‘right away’ or ‘later before the coupon expires’ are labeled as ‘Y = 1’ and answers ‘no, I do not want the coupon’ are labeled as ‘Y = 0’.  There are five different types of coupons -- less expensive restaurants (under \\$20), coffee houses, carry out & take away, bar, and more expensive restaurants (\\$20 - $50)."
   ]
  },
  {
   "cell_type": "markdown",
   "metadata": {
    "id": "1wORvMBJ_qRF"
   },
   "source": [
    "**Deliverables**\n",
    "\n",
    "Your final product should be a brief report that highlights the differences between customers who did and did not accept the coupons.  To explore the data you will utilize your knowledge of plotting, statistical summaries, and visualization using Python. You will publish your findings in a public facing github repository as your first portfolio piece.\n",
    "\n",
    "\n",
    "\n"
   ]
  },
  {
   "cell_type": "markdown",
   "metadata": {
    "id": "pG6_Ym6q_qRG"
   },
   "source": [
    "### Data Description\n",
    "Keep in mind that these values mentioned below are average values.\n",
    "\n",
    "The attributes of this data set include:\n",
    "1. User attributes\n",
    "    -  Gender: male, female\n",
    "    -  Age: below 21, 21 to 25, 26 to 30, etc.\n",
    "    -  Marital Status: single, married partner, unmarried partner, or widowed\n",
    "    -  Number of children: 0, 1, or more than 1\n",
    "    -  Education: high school, bachelors degree, associates degree, or graduate degree\n",
    "    -  Occupation: architecture & engineering, business & financial, etc.\n",
    "    -  Annual income: less than \\\\$12500, \\\\$12500 - \\\\$24999, \\\\$25000 - \\\\$37499, etc.\n",
    "    -  Number of times that he/she goes to a bar: 0, less than 1, 1 to 3, 4 to 8 or greater than 8\n",
    "    -  Number of times that he/she buys takeaway food: 0, less than 1, 1 to 3, 4 to 8 or greater\n",
    "    than 8\n",
    "    -  Number of times that he/she goes to a coffee house: 0, less than 1, 1 to 3, 4 to 8 or\n",
    "    greater than 8\n",
    "    -  Number of times that he/she eats at a restaurant with average expense less than \\\\$20 per\n",
    "    person: 0, less than 1, 1 to 3, 4 to 8 or greater than 8\n",
    "    -  Number of times that he/she goes to a bar: 0, less than 1, 1 to 3, 4 to 8 or greater than 8\n",
    "    \n",
    "\n",
    "2. Contextual attributes\n",
    "    - Driving destination: home, work, or no urgent destination\n",
    "    - Location of user, coupon and destination: we provide a map to show the geographical\n",
    "    location of the user, destination, and the venue, and we mark the distance between each\n",
    "    two places with time of driving. The user can see whether the venue is in the same\n",
    "    direction as the destination.\n",
    "    - Weather: sunny, rainy, or snowy\n",
    "    - Temperature: 30F, 55F, or 80F\n",
    "    - Time: 10AM, 2PM, or 6PM\n",
    "    - Passenger: alone, partner, kid(s), or friend(s)\n",
    "\n",
    "\n",
    "3. Coupon attributes\n",
    "    - time before it expires: 2 hours or one day"
   ]
  },
  {
   "cell_type": "code",
   "execution_count": 466,
   "metadata": {
    "id": "dzNoP3o__qRG"
   },
   "outputs": [],
   "source": [
    "import matplotlib.pyplot as plt\n",
    "import seaborn as sns\n",
    "import pandas as pd\n",
    "import numpy as np"
   ]
  },
  {
   "cell_type": "markdown",
   "metadata": {
    "id": "Ct8pI1uE_qRG"
   },
   "source": [
    "### Problems\n",
    "\n",
    "Use the prompts below to get started with your data analysis.  \n",
    "\n",
    "1. Read in the `coupons.csv` file.\n",
    "\n",
    "\n"
   ]
  },
  {
   "cell_type": "code",
   "execution_count": 468,
   "metadata": {
    "id": "X0vbffYg_qRH"
   },
   "outputs": [],
   "source": [
    "data = pd.read_csv('data/coupons.csv')"
   ]
  },
  {
   "cell_type": "code",
   "execution_count": 469,
   "metadata": {
    "id": "TXofQ_DF_qRH",
    "outputId": "2fc96a2c-1112-4b54-f24f-dbb9bc88abfb"
   },
   "outputs": [
    {
     "data": {
      "text/html": [
       "<div>\n",
       "<style scoped>\n",
       "    .dataframe tbody tr th:only-of-type {\n",
       "        vertical-align: middle;\n",
       "    }\n",
       "\n",
       "    .dataframe tbody tr th {\n",
       "        vertical-align: top;\n",
       "    }\n",
       "\n",
       "    .dataframe thead th {\n",
       "        text-align: right;\n",
       "    }\n",
       "</style>\n",
       "<table border=\"1\" class=\"dataframe\">\n",
       "  <thead>\n",
       "    <tr style=\"text-align: right;\">\n",
       "      <th></th>\n",
       "      <th>destination</th>\n",
       "      <th>passanger</th>\n",
       "      <th>weather</th>\n",
       "      <th>temperature</th>\n",
       "      <th>time</th>\n",
       "      <th>coupon</th>\n",
       "      <th>expiration</th>\n",
       "      <th>gender</th>\n",
       "      <th>age</th>\n",
       "      <th>maritalStatus</th>\n",
       "      <th>...</th>\n",
       "      <th>CoffeeHouse</th>\n",
       "      <th>CarryAway</th>\n",
       "      <th>RestaurantLessThan20</th>\n",
       "      <th>Restaurant20To50</th>\n",
       "      <th>toCoupon_GEQ5min</th>\n",
       "      <th>toCoupon_GEQ15min</th>\n",
       "      <th>toCoupon_GEQ25min</th>\n",
       "      <th>direction_same</th>\n",
       "      <th>direction_opp</th>\n",
       "      <th>Y</th>\n",
       "    </tr>\n",
       "  </thead>\n",
       "  <tbody>\n",
       "    <tr>\n",
       "      <th>0</th>\n",
       "      <td>No Urgent Place</td>\n",
       "      <td>Alone</td>\n",
       "      <td>Sunny</td>\n",
       "      <td>55</td>\n",
       "      <td>2PM</td>\n",
       "      <td>Restaurant(&lt;20)</td>\n",
       "      <td>1d</td>\n",
       "      <td>Female</td>\n",
       "      <td>21</td>\n",
       "      <td>Unmarried partner</td>\n",
       "      <td>...</td>\n",
       "      <td>never</td>\n",
       "      <td>NaN</td>\n",
       "      <td>4~8</td>\n",
       "      <td>1~3</td>\n",
       "      <td>1</td>\n",
       "      <td>0</td>\n",
       "      <td>0</td>\n",
       "      <td>0</td>\n",
       "      <td>1</td>\n",
       "      <td>1</td>\n",
       "    </tr>\n",
       "    <tr>\n",
       "      <th>1</th>\n",
       "      <td>No Urgent Place</td>\n",
       "      <td>Friend(s)</td>\n",
       "      <td>Sunny</td>\n",
       "      <td>80</td>\n",
       "      <td>10AM</td>\n",
       "      <td>Coffee House</td>\n",
       "      <td>2h</td>\n",
       "      <td>Female</td>\n",
       "      <td>21</td>\n",
       "      <td>Unmarried partner</td>\n",
       "      <td>...</td>\n",
       "      <td>never</td>\n",
       "      <td>NaN</td>\n",
       "      <td>4~8</td>\n",
       "      <td>1~3</td>\n",
       "      <td>1</td>\n",
       "      <td>0</td>\n",
       "      <td>0</td>\n",
       "      <td>0</td>\n",
       "      <td>1</td>\n",
       "      <td>0</td>\n",
       "    </tr>\n",
       "    <tr>\n",
       "      <th>2</th>\n",
       "      <td>No Urgent Place</td>\n",
       "      <td>Friend(s)</td>\n",
       "      <td>Sunny</td>\n",
       "      <td>80</td>\n",
       "      <td>10AM</td>\n",
       "      <td>Carry out &amp; Take away</td>\n",
       "      <td>2h</td>\n",
       "      <td>Female</td>\n",
       "      <td>21</td>\n",
       "      <td>Unmarried partner</td>\n",
       "      <td>...</td>\n",
       "      <td>never</td>\n",
       "      <td>NaN</td>\n",
       "      <td>4~8</td>\n",
       "      <td>1~3</td>\n",
       "      <td>1</td>\n",
       "      <td>1</td>\n",
       "      <td>0</td>\n",
       "      <td>0</td>\n",
       "      <td>1</td>\n",
       "      <td>1</td>\n",
       "    </tr>\n",
       "    <tr>\n",
       "      <th>3</th>\n",
       "      <td>No Urgent Place</td>\n",
       "      <td>Friend(s)</td>\n",
       "      <td>Sunny</td>\n",
       "      <td>80</td>\n",
       "      <td>2PM</td>\n",
       "      <td>Coffee House</td>\n",
       "      <td>2h</td>\n",
       "      <td>Female</td>\n",
       "      <td>21</td>\n",
       "      <td>Unmarried partner</td>\n",
       "      <td>...</td>\n",
       "      <td>never</td>\n",
       "      <td>NaN</td>\n",
       "      <td>4~8</td>\n",
       "      <td>1~3</td>\n",
       "      <td>1</td>\n",
       "      <td>1</td>\n",
       "      <td>0</td>\n",
       "      <td>0</td>\n",
       "      <td>1</td>\n",
       "      <td>0</td>\n",
       "    </tr>\n",
       "    <tr>\n",
       "      <th>4</th>\n",
       "      <td>No Urgent Place</td>\n",
       "      <td>Friend(s)</td>\n",
       "      <td>Sunny</td>\n",
       "      <td>80</td>\n",
       "      <td>2PM</td>\n",
       "      <td>Coffee House</td>\n",
       "      <td>1d</td>\n",
       "      <td>Female</td>\n",
       "      <td>21</td>\n",
       "      <td>Unmarried partner</td>\n",
       "      <td>...</td>\n",
       "      <td>never</td>\n",
       "      <td>NaN</td>\n",
       "      <td>4~8</td>\n",
       "      <td>1~3</td>\n",
       "      <td>1</td>\n",
       "      <td>1</td>\n",
       "      <td>0</td>\n",
       "      <td>0</td>\n",
       "      <td>1</td>\n",
       "      <td>0</td>\n",
       "    </tr>\n",
       "  </tbody>\n",
       "</table>\n",
       "<p>5 rows × 26 columns</p>\n",
       "</div>"
      ],
      "text/plain": [
       "       destination  passanger weather  temperature  time  \\\n",
       "0  No Urgent Place      Alone   Sunny           55   2PM   \n",
       "1  No Urgent Place  Friend(s)   Sunny           80  10AM   \n",
       "2  No Urgent Place  Friend(s)   Sunny           80  10AM   \n",
       "3  No Urgent Place  Friend(s)   Sunny           80   2PM   \n",
       "4  No Urgent Place  Friend(s)   Sunny           80   2PM   \n",
       "\n",
       "                  coupon expiration  gender age      maritalStatus  ...  \\\n",
       "0        Restaurant(<20)         1d  Female  21  Unmarried partner  ...   \n",
       "1           Coffee House         2h  Female  21  Unmarried partner  ...   \n",
       "2  Carry out & Take away         2h  Female  21  Unmarried partner  ...   \n",
       "3           Coffee House         2h  Female  21  Unmarried partner  ...   \n",
       "4           Coffee House         1d  Female  21  Unmarried partner  ...   \n",
       "\n",
       "   CoffeeHouse CarryAway RestaurantLessThan20 Restaurant20To50  \\\n",
       "0        never       NaN                  4~8              1~3   \n",
       "1        never       NaN                  4~8              1~3   \n",
       "2        never       NaN                  4~8              1~3   \n",
       "3        never       NaN                  4~8              1~3   \n",
       "4        never       NaN                  4~8              1~3   \n",
       "\n",
       "  toCoupon_GEQ5min toCoupon_GEQ15min toCoupon_GEQ25min direction_same  \\\n",
       "0                1                 0                 0              0   \n",
       "1                1                 0                 0              0   \n",
       "2                1                 1                 0              0   \n",
       "3                1                 1                 0              0   \n",
       "4                1                 1                 0              0   \n",
       "\n",
       "  direction_opp  Y  \n",
       "0             1  1  \n",
       "1             1  0  \n",
       "2             1  1  \n",
       "3             1  0  \n",
       "4             1  0  \n",
       "\n",
       "[5 rows x 26 columns]"
      ]
     },
     "execution_count": 469,
     "metadata": {},
     "output_type": "execute_result"
    }
   ],
   "source": [
    "data.head()"
   ]
  },
  {
   "cell_type": "markdown",
   "metadata": {
    "id": "GcDs78ZH_qRH"
   },
   "source": [
    "2. Investigate the dataset for missing or problematic data."
   ]
  },
  {
   "cell_type": "code",
   "execution_count": 471,
   "metadata": {
    "id": "6CwL6oWj_qRH"
   },
   "outputs": [
    {
     "name": "stdout",
     "output_type": "stream",
     "text": [
      "<class 'pandas.core.frame.DataFrame'>\n",
      "RangeIndex: 12684 entries, 0 to 12683\n",
      "Data columns (total 26 columns):\n",
      " #   Column                Non-Null Count  Dtype \n",
      "---  ------                --------------  ----- \n",
      " 0   destination           12684 non-null  object\n",
      " 1   passanger             12684 non-null  object\n",
      " 2   weather               12684 non-null  object\n",
      " 3   temperature           12684 non-null  int64 \n",
      " 4   time                  12684 non-null  object\n",
      " 5   coupon                12684 non-null  object\n",
      " 6   expiration            12684 non-null  object\n",
      " 7   gender                12684 non-null  object\n",
      " 8   age                   12684 non-null  object\n",
      " 9   maritalStatus         12684 non-null  object\n",
      " 10  has_children          12684 non-null  int64 \n",
      " 11  education             12684 non-null  object\n",
      " 12  occupation            12684 non-null  object\n",
      " 13  income                12684 non-null  object\n",
      " 14  car                   108 non-null    object\n",
      " 15  Bar                   12577 non-null  object\n",
      " 16  CoffeeHouse           12467 non-null  object\n",
      " 17  CarryAway             12533 non-null  object\n",
      " 18  RestaurantLessThan20  12554 non-null  object\n",
      " 19  Restaurant20To50      12495 non-null  object\n",
      " 20  toCoupon_GEQ5min      12684 non-null  int64 \n",
      " 21  toCoupon_GEQ15min     12684 non-null  int64 \n",
      " 22  toCoupon_GEQ25min     12684 non-null  int64 \n",
      " 23  direction_same        12684 non-null  int64 \n",
      " 24  direction_opp         12684 non-null  int64 \n",
      " 25  Y                     12684 non-null  int64 \n",
      "dtypes: int64(8), object(18)\n",
      "memory usage: 2.5+ MB\n",
      "None\n",
      "        temperature  has_children  toCoupon_GEQ5min  toCoupon_GEQ15min  \\\n",
      "count  12684.000000  12684.000000           12684.0       12684.000000   \n",
      "mean      63.301798      0.414144               1.0           0.561495   \n",
      "std       19.154486      0.492593               0.0           0.496224   \n",
      "min       30.000000      0.000000               1.0           0.000000   \n",
      "25%       55.000000      0.000000               1.0           0.000000   \n",
      "50%       80.000000      0.000000               1.0           1.000000   \n",
      "75%       80.000000      1.000000               1.0           1.000000   \n",
      "max       80.000000      1.000000               1.0           1.000000   \n",
      "\n",
      "       toCoupon_GEQ25min  direction_same  direction_opp             Y  \n",
      "count       12684.000000    12684.000000   12684.000000  12684.000000  \n",
      "mean            0.119126        0.214759       0.785241      0.568433  \n",
      "std             0.323950        0.410671       0.410671      0.495314  \n",
      "min             0.000000        0.000000       0.000000      0.000000  \n",
      "25%             0.000000        0.000000       1.000000      0.000000  \n",
      "50%             0.000000        0.000000       1.000000      1.000000  \n",
      "75%             0.000000        0.000000       1.000000      1.000000  \n",
      "max             1.000000        1.000000       1.000000      1.000000  \n",
      "car                     12576\n",
      "Bar                       107\n",
      "CoffeeHouse               217\n",
      "CarryAway                 151\n",
      "RestaurantLessThan20      130\n",
      "Restaurant20To50          189\n",
      "dtype: int64\n",
      "Duplicate rows: 74\n",
      "destination             object\n",
      "passanger               object\n",
      "weather                 object\n",
      "temperature              int64\n",
      "time                    object\n",
      "coupon                  object\n",
      "expiration              object\n",
      "gender                  object\n",
      "age                     object\n",
      "maritalStatus           object\n",
      "has_children             int64\n",
      "education               object\n",
      "occupation              object\n",
      "income                  object\n",
      "car                     object\n",
      "Bar                     object\n",
      "CoffeeHouse             object\n",
      "CarryAway               object\n",
      "RestaurantLessThan20    object\n",
      "Restaurant20To50        object\n",
      "toCoupon_GEQ5min         int64\n",
      "toCoupon_GEQ15min        int64\n",
      "toCoupon_GEQ25min        int64\n",
      "direction_same           int64\n",
      "direction_opp            int64\n",
      "Y                        int64\n",
      "dtype: object\n",
      "Unique values in destination: ['No Urgent Place' 'Home' 'Work']\n",
      "Unique values in passanger: ['Alone' 'Friend(s)' 'Kid(s)' 'Partner']\n",
      "Unique values in weather: ['Sunny' 'Rainy' 'Snowy']\n",
      "Unique values in time: ['2PM' '10AM' '6PM' '7AM' '10PM']\n",
      "Unique values in coupon: ['Restaurant(<20)' 'Coffee House' 'Carry out & Take away' 'Bar'\n",
      " 'Restaurant(20-50)']\n",
      "Unique values in expiration: ['1d' '2h']\n",
      "Unique values in gender: ['Female' 'Male']\n",
      "Unique values in age: ['21' '46' '26' '31' '41' '50plus' '36' 'below21']\n",
      "Unique values in maritalStatus: ['Unmarried partner' 'Single' 'Married partner' 'Divorced' 'Widowed']\n",
      "Unique values in education: ['Some college - no degree' 'Bachelors degree' 'Associates degree'\n",
      " 'High School Graduate' 'Graduate degree (Masters or Doctorate)'\n",
      " 'Some High School']\n",
      "Unique values in occupation: ['Unemployed' 'Architecture & Engineering' 'Student'\n",
      " 'Education&Training&Library' 'Healthcare Support'\n",
      " 'Healthcare Practitioners & Technical' 'Sales & Related' 'Management'\n",
      " 'Arts Design Entertainment Sports & Media' 'Computer & Mathematical'\n",
      " 'Life Physical Social Science' 'Personal Care & Service'\n",
      " 'Community & Social Services' 'Office & Administrative Support'\n",
      " 'Construction & Extraction' 'Legal' 'Retired'\n",
      " 'Installation Maintenance & Repair' 'Transportation & Material Moving'\n",
      " 'Business & Financial' 'Protective Service'\n",
      " 'Food Preparation & Serving Related' 'Production Occupations'\n",
      " 'Building & Grounds Cleaning & Maintenance' 'Farming Fishing & Forestry']\n",
      "Unique values in income: ['$37500 - $49999' '$62500 - $74999' '$12500 - $24999' '$75000 - $87499'\n",
      " '$50000 - $62499' '$25000 - $37499' '$100000 or More' '$87500 - $99999'\n",
      " 'Less than $12500']\n",
      "Unique values in car: [nan 'Scooter and motorcycle' 'crossover' 'Mazda5' 'do not drive'\n",
      " 'Car that is too old to install Onstar :D']\n",
      "Unique values in Bar: ['never' 'less1' '1~3' 'gt8' nan '4~8']\n",
      "Unique values in CoffeeHouse: ['never' 'less1' '4~8' '1~3' 'gt8' nan]\n",
      "Unique values in CarryAway: [nan '4~8' '1~3' 'gt8' 'less1' 'never']\n",
      "Unique values in RestaurantLessThan20: ['4~8' '1~3' 'less1' 'gt8' nan 'never']\n",
      "Unique values in Restaurant20To50: ['1~3' 'less1' 'never' 'gt8' '4~8' nan]\n"
     ]
    },
    {
     "data": {
      "image/png": "[encoded data removed]",
      "text/plain": [
       "<Figure size 1000x600 with 1 Axes>"
      ]
     },
     "metadata": {},
     "output_type": "display_data"
    }
   ],
   "source": [
    "print(data.info())\n",
    "print(data.describe())\n",
    "#check for nulls or missing values\n",
    "missing_values = data.isnull().sum()\n",
    "print(missing_values[missing_values > 0])\n",
    "#check for duplicates\n",
    "duplicates = data.duplicated().sum()\n",
    "print(f'Duplicate rows: {duplicates}')\n",
    "#look at the datatypes, check for unique values\n",
    "print(data.dtypes)\n",
    "for col in data.select_dtypes(include=['object']).columns:\n",
    "    print(f'Unique values in {col}: {data[col].unique()}')\n",
    "#visualize missing data\n",
    "plt.figure(figsize=(10, 6))\n",
    "sns.heatmap(data.isnull(), cbar=False, cmap='viridis')\n",
    "plt.title('Visualize Nulls')\n",
    "plt.show()\n"
   ]
  },
  {
   "cell_type": "markdown",
   "metadata": {
    "id": "bSdVSpYB_qRH"
   },
   "source": [
    "3. Decide what to do about your missing data -- drop, replace, other..."
   ]
  },
  {
   "cell_type": "code",
   "execution_count": 473,
   "metadata": {
    "id": "tyvoAC5F_qRI"
   },
   "outputs": [],
   "source": [
    "data_cleaned = data.drop(columns=['car'])"
   ]
  },
  {
   "cell_type": "markdown",
   "metadata": {
    "id": "YE6oJbXd_qRI"
   },
   "source": [
    "4. What proportion of the total observations chose to accept the coupon?\n",
    "\n"
   ]
  },
  {
   "cell_type": "code",
   "execution_count": 475,
   "metadata": {
    "id": "86GGqBTv_qRI"
   },
   "outputs": [
    {
     "name": "stdout",
     "output_type": "stream",
     "text": [
      "0.5684326710816777\n"
     ]
    }
   ],
   "source": [
    "total_population = data_cleaned.shape[0]\n",
    "count_yes = data_cleaned['Y'].sum()\n",
    "accepted = count_yes / total_population\n",
    "print(accepted)\n"
   ]
  },
  {
   "cell_type": "markdown",
   "metadata": {
    "id": "vflz0DoE_qRI"
   },
   "source": [
    "5. Use a bar plot to visualize the `coupon` column."
   ]
  },
  {
   "cell_type": "code",
   "execution_count": 532,
   "metadata": {
    "id": "dHFh3E45_qRI"
   },
   "outputs": [
    {
     "data": {
      "image/png": "[encoded data removed]",
      "text/plain": [
       "<Figure size 600x400 with 1 Axes>"
      ]
     },
     "metadata": {},
     "output_type": "display_data"
    }
   ],
   "source": [
    "coupon_counts = data_cleaned['coupon'].value_counts()\n",
    "\n",
    "plt.figure(figsize=(6, 4))\n",
    "sns.barplot(x=coupon_counts.index, y=coupon_counts.values)\n",
    "plt.xlabel('Coupon')\n",
    "plt.ylabel('Count')\n",
    "plt.title('Count of Each Coupon Type')\n",
    "plt.xticks(rotation=45)\n",
    "plt.show()\n"
   ]
  },
  {
   "cell_type": "markdown",
   "metadata": {
    "id": "Qw4lCyx2_qRI"
   },
   "source": [
    "6. Use a histogram to visualize the temperature column."
   ]
  },
  {
   "cell_type": "code",
   "execution_count": 530,
   "metadata": {
    "id": "Yg9Anv71_qRI"
   },
   "outputs": [
    {
     "data": {
      "image/png": "[encoded data removed]",
      "text/plain": [
       "<Figure size 600x400 with 1 Axes>"
      ]
     },
     "metadata": {},
     "output_type": "display_data"
    }
   ],
   "source": [
    "plt.figure(figsize=(6, 4))\n",
    "plt.hist(data_cleaned['temperature'], bins=30)\n",
    "plt.xlabel('Temperature')\n",
    "plt.ylabel('Frequency')\n",
    "plt.title('Histogram of Temperature')\n",
    "plt.grid(axis='y')\n",
    "plt.show()"
   ]
  },
  {
   "cell_type": "markdown",
   "metadata": {
    "id": "FupfgeJk_qRJ"
   },
   "source": [
    "**Investigating the Bar Coupons**\n",
    "\n",
    "Now, we will lead you through an exploration of just the bar related coupons.  \n",
    "\n",
    "1. Create a new `DataFrame` that contains just the bar coupons.\n"
   ]
  },
  {
   "cell_type": "code",
   "execution_count": 481,
   "metadata": {
    "id": "tMBlWuGq_qRJ"
   },
   "outputs": [
    {
     "data": {
      "text/plain": [
       "2017"
      ]
     },
     "execution_count": 481,
     "metadata": {},
     "output_type": "execute_result"
    }
   ],
   "source": [
    "bar_df = data[data['coupon'] == 'Bar']\n",
    "bar_df.head()\n",
    "bar_df.shape[0]"
   ]
  },
  {
   "cell_type": "markdown",
   "metadata": {
    "id": "8ue6uCqf_qRJ"
   },
   "source": [
    "2. What proportion of bar coupons were accepted?\n"
   ]
  },
  {
   "cell_type": "code",
   "execution_count": 483,
   "metadata": {
    "id": "hSdte8Mi_qRK"
   },
   "outputs": [
    {
     "name": "stdout",
     "output_type": "stream",
     "text": [
      "0.41001487357461575\n"
     ]
    }
   ],
   "source": [
    "total_bar_population = bar_df.shape[0]\n",
    "count_bar_yes = bar_df['Y'].sum()\n",
    "bar_accepted = count_bar_yes / total_bar_population\n",
    "print(bar_accepted)"
   ]
  },
  {
   "cell_type": "markdown",
   "metadata": {
    "id": "85nA_iEi_qRK"
   },
   "source": [
    "3. Compare the acceptance rate between those who went to a bar 3 or fewer times a month to those who went more.\n"
   ]
  },
  {
   "cell_type": "code",
   "execution_count": 485,
   "metadata": {
    "id": "LBOrN-XM_qRK"
   },
   "outputs": [
    {
     "name": "stdout",
     "output_type": "stream",
     "text": [
      "Acceptance Rate - 3 or fewer times: 37.06%\n",
      "Acceptance Rate - more than 3 times: 76.88%\n"
     ]
    }
   ],
   "source": [
    "#print(bar_df.shape[0]) #check dataframe shape to see if we inadvertently changed it\n",
    "bar_coupon_df = bar_df[bar_df['Bar'].notna() & (bar_df['Bar'] != '')]\n",
    "lessthan_equalto_3 = bar_coupon_df[bar_coupon_df['Bar'].isin(['1~3', 'less1', 'never'])]\n",
    "greaterthan_3 = bar_coupon_df[bar_coupon_df['Bar'].isin(['4~8', 'gt8'])]\n",
    "\n",
    "acceptance_rate_lessthan_equalto_3 = lessthan_equalto_3['Y'].mean()\n",
    "acceptance_rate_greaterthan_3 = greaterthan_3['Y'].mean()\n",
    "print(f'Acceptance Rate - 3 or fewer times: {acceptance_rate_lessthan_equalto_3 * 100:.2f}%')\n",
    "print(f'Acceptance Rate - more than 3 times: {acceptance_rate_greaterthan_3 * 100:.2f}%')"
   ]
  },
  {
   "cell_type": "markdown",
   "metadata": {
    "id": "RBgcQwH4_qRK"
   },
   "source": [
    "4. Compare the acceptance rate between drivers who go to a bar more than once a month and are over the age of 25 to the all others.  Is there a difference?\n"
   ]
  },
  {
   "cell_type": "code",
   "execution_count": 487,
   "metadata": {
    "id": "bf28bbeX_qRK"
   },
   "outputs": [
    {
     "name": "stdout",
     "output_type": "stream",
     "text": [
      "Acceptance Rate - drivers > 25 who go to a bar > once: 69.97%\n",
      "Acceptance Rate - all other drivers: 35.55%\n"
     ]
    }
   ],
   "source": [
    "#print(bar_df.shape[0]) #check dataframe shape to see if we inadvertently changed it\n",
    "bar_df.loc[:, 'age'] = pd.to_numeric(bar_df['age'], errors='coerce')\n",
    "bar_coupon_df = bar_df[bar_df['age'].notna()]\n",
    "\n",
    "# Bar visitors > once a month and age > 25\n",
    "group_1 = bar_coupon_df[(bar_coupon_df['Bar'].isin(['1~3', '4~8', 'gt8'])) & (bar_coupon_df['age'] > 25)]\n",
    "# All others NOT in the group above ...the tilde is a \"not\" operator in Python in case anyone is wondering\n",
    "group_2 = bar_coupon_df[~((bar_coupon_df['Bar'].isin(['1~3', '4~8', 'gt8'])) & (bar_coupon_df['age'] > 25))]\n",
    "\n",
    "acceptance_rate_group_1 = group_1['Y'].mean()\n",
    "acceptance_rate_group_2 = group_2['Y'].mean()\n",
    "print(f'Acceptance Rate - drivers > 25 who go to a bar > once: {acceptance_rate_group_1 * 100:.2f}%')\n",
    "print(f'Acceptance Rate - all other drivers: {acceptance_rate_group_2 * 100:.2f}%')"
   ]
  },
  {
   "cell_type": "markdown",
   "metadata": {
    "id": "S4RKT4PJ_qRK"
   },
   "source": [
    "5. Use the same process to compare the acceptance rate between drivers who go to bars more than once a month and had passengers that were not a kid and had occupations other than farming, fishing, or forestry.\n"
   ]
  },
  {
   "cell_type": "code",
   "execution_count": 489,
   "metadata": {
    "id": "sENaI2Tg_qRK"
   },
   "outputs": [
    {
     "name": "stdout",
     "output_type": "stream",
     "text": [
      "Acceptance Rate - drivers who go to bars more than once per month with a passenger, but no kids: 72.99%\n",
      "Acceptance Rate - all other drivers: 39.38%\n"
     ]
    }
   ],
   "source": [
    "#print(bar_df.shape[0]) #check dataframe shape to see if we inadvertently changed it\n",
    "bar_coupon_df_2 = bar_df[bar_df['occupation'].notna()]\n",
    "bar_coupon_df_2.loc[:, 'age'] = pd.to_numeric(bar_coupon_df_2['age'], errors='coerce')\n",
    "bar_coupon_df_2 = bar_coupon_df_2[bar_coupon_df_2['age'].notna()]\n",
    "\n",
    "group_1 = bar_coupon_df_2[\n",
    "    (bar_coupon_df_2['Bar'].isin(['1~3', '4~8', 'gt8'])) &  # More than once a month\n",
    "    ~(bar_coupon_df_2['passanger'].isin(['Alone', 'Kid(s)'])) &  # Not Alone and not transporting kids\n",
    "    (~bar_coupon_df_2['occupation'].str.contains('Farming Fishing & Forestry', na=False)) \n",
    "]\n",
    "\n",
    "#all others...using the tilde for \"not\"\n",
    "group_2 = bar_coupon_df_2[~((bar_coupon_df_2['Bar'].isin(['1~3', '4~8', 'gt8'])) & \n",
    "                          ~(bar_coupon_df_2['passanger'].isin(['Alone', 'Kid(s)'])) & \n",
    "                          (~bar_coupon_df_2['occupation'].str.contains('Farming Fishing & Forestry', na=False)))]\n",
    "\n",
    "acceptance_rate_group_1 = group_1['Y'].mean()\n",
    "acceptance_rate_group_2 = group_2['Y'].mean()\n",
    "print(f'Acceptance Rate - drivers who go to bars more than once per month with a passenger, but no kids: {acceptance_rate_group_1 * 100:.2f}%')\n",
    "print(f'Acceptance Rate - all other drivers: {acceptance_rate_group_2 * 100:.2f}%')"
   ]
  },
  {
   "cell_type": "markdown",
   "metadata": {
    "id": "n2LIUTil_qRK"
   },
   "source": [
    "6. Compare the acceptance rates between those drivers who:\n",
    "\n",
    "- go to bars more than once a month, had passengers that were not a kid, and were not widowed *OR*\n",
    "- go to bars more than once a month and are under the age of 30 *OR*\n",
    "- go to cheap restaurants more than 4 times a month and income is less than 50K.\n",
    "\n"
   ]
  },
  {
   "cell_type": "code",
   "execution_count": 524,
   "metadata": {
    "id": "aK_wEzx7_qRK"
   },
   "outputs": [
    {
     "name": "stdout",
     "output_type": "stream",
     "text": [
      "Acceptance Rate - Not Widowed: 71.96%\n",
      "Acceptance Rate - Under 30: 73.13%\n",
      "Acceptance Rate - Cheap Restaurants: 48.44%\n",
      "Acceptance Rate - Total: 43.00%\n"
     ]
    }
   ],
   "source": [
    "#Filter out null or blank values in the columns that we're using\n",
    "#print(bar_df.shape[0]) #check dataframe shape to see if we inadvertently changed it\n",
    "bar_coupon_df_3 = bar_df[bar_df['Bar'].notna() & (bar_df['Bar'] != '')]\n",
    "bar_coupon_df_3 = bar_coupon_df_3[bar_coupon_df_3['occupation'].notna()]\n",
    "bar_coupon_df_3 = bar_coupon_df_3[bar_coupon_df_3['maritalStatus'].notna()]\n",
    "bar_coupon_df_3.loc[:, 'age'] = pd.to_numeric(bar_coupon_df_3['age'], errors='coerce')\n",
    "bar_coupon_df_3 = bar_coupon_df_3[bar_coupon_df_3['age'].notna()]\n",
    "\n",
    "#go to bars more than once a month, had passengers that were not a kid, and were not widowed\n",
    "not_widowed = bar_coupon_df_3[\n",
    "    (bar_coupon_df_3['Bar'].isin(['1~3', '4~8', 'gt8'])) & \n",
    "    (bar_coupon_df_3['passanger'] != 'Kid(s)') &      # NOT transporting kids\n",
    "    (bar_coupon_df_3['maritalStatus'] != 'Widowed')         # NOT widowed\n",
    "]\n",
    "\n",
    "#go to bars more than once a month and are under the age of 30\n",
    "under_30 = bar_coupon_df_3[\n",
    "    (bar_coupon_df_3['Bar'].isin(['1~3', '4~8', 'gt8'])) &  \n",
    "    (bar_coupon_df_3['age'] < 30) \n",
    "]\n",
    "\n",
    "#go to cheap restaurants more than 4 times a month and income is less than 50K\n",
    "cheap_restaurants = bar_coupon_df_3[\n",
    "    (bar_coupon_df_3['RestaurantLessThan20'].isin(['4~8', 'gt8'])) &  \n",
    "    (bar_coupon_df_3['income'].isin(['Less than $12500', '$12500 - $24999', '$25000 - $37499', '$37500 - $49999']))\n",
    "]\n",
    "\n",
    "#Total population\n",
    "total_population = bar_coupon_df_3  # This is the entire DataFrame after filtering for nulls and NaNs\n",
    "\n",
    "#Acceptance rates for each condition\n",
    "not_widowed_rate = not_widowed['Y'].mean()\n",
    "under_30_rate = under_30['Y'].mean()\n",
    "cheap_restaurants_rate = cheap_restaurants['Y'].mean()\n",
    "total_rate = total_population['Y'].mean()\n",
    "\n",
    "\n",
    "print(f'Acceptance Rate - Not Widowed: {not_widowed_rate * 100:.2f}%')\n",
    "print(f'Acceptance Rate - Under 30: {under_30_rate * 100:.2f}%')\n",
    "print(f'Acceptance Rate - Cheap Restaurants: {cheap_restaurants_rate * 100:.2f}%')\n",
    "print(f'Acceptance Rate - Total: {total_rate * 100:.2f}%')"
   ]
  },
  {
   "cell_type": "markdown",
   "metadata": {
    "id": "v3fL3QkO_qRK"
   },
   "source": [
    "7.  Based on these observations, what do you hypothesize about drivers who accepted the bar coupons?"
   ]
  },
  {
   "cell_type": "code",
   "execution_count": null,
   "metadata": {
    "id": "Y48naDFh_qRL"
   },
   "outputs": [],
   "source": [
    "#Drivers who accepted bar coupons were likely to be young, childless, go out relatively often, are social, and perhaps don't have to wake up very early in the morning (Farming occupation).\n",
    "#My hypothesis is that most acceptances of coupons are from people who are not necessarily responsible for others yet in their lives, and have the time and \n",
    "#inclination to socialize due to their independence."
   ]
  },
  {
   "cell_type": "markdown",
   "metadata": {
    "id": "r4Hu1zOb_qRL"
   },
   "source": [
    "### Independent Investigation\n",
    "\n",
    "Using the bar coupon example as motivation, you are to explore one of the other coupon groups and try to determine the characteristics of passengers who accept the coupons.  "
   ]
  },
  {
   "cell_type": "markdown",
   "metadata": {},
   "source": [
    "I'm investigating the Restaurant $20-50 range.  The number of acceptances was the lowest and I am interested to know what the demographics are for the population that accepts coupons for the more expensive option."
   ]
  },
  {
   "cell_type": "markdown",
   "metadata": {},
   "source": [
    "1. Repeating the first step from the \"Bar\" coupon evaluation, I want to understand what the overall acceptance rate is and do some basic data cleaning.  The only null column is car - it's not useful but it doesn't really harm the dataframe to leave it in place."
   ]
  },
  {
   "cell_type": "code",
   "execution_count": 558,
   "metadata": {
    "id": "0c71cQhu_qRL"
   },
   "outputs": [
    {
     "data": {
      "text/plain": [
       "1492"
      ]
     },
     "execution_count": 558,
     "metadata": {},
     "output_type": "execute_result"
    }
   ],
   "source": [
    "rest_df = data[data['coupon'] == 'Restaurant(20-50)']\n",
    "rest_df.head()\n",
    "rest_df.shape[0]"
   ]
  },
  {
   "cell_type": "code",
   "execution_count": 560,
   "metadata": {},
   "outputs": [
    {
     "name": "stdout",
     "output_type": "stream",
     "text": [
      "0.4410187667560322\n"
     ]
    }
   ],
   "source": [
    "total_rest_population = rest_df.shape[0]\n",
    "count_rest_yes = rest_df['Y'].sum()\n",
    "restraunt_accepted = count_rest_yes / total_rest_population\n",
    "print(restraunt_accepted)"
   ]
  },
  {
   "cell_type": "markdown",
   "metadata": {},
   "source": [
    "2. I want to find out whether there's a significant difference between acceptance rates in populations that frequent restuarants and those that do not"
   ]
  },
  {
   "cell_type": "code",
   "execution_count": 573,
   "metadata": {
    "id": "QEsBkvIN_qRL"
   },
   "outputs": [
    {
     "name": "stdout",
     "output_type": "stream",
     "text": [
      "Acceptance Rate - 3 or fewer times: 42.46%\n",
      "Acceptance Rate - more than 3 times: 64.23%\n"
     ]
    }
   ],
   "source": [
    "rest_coupon_df = rest_df[rest_df['Restaurant20To50'].notna() & (rest_df['Restaurant20To50'] != '')]\n",
    "\n",
    "\n",
    "lessthan_equalto_3 = rest_coupon_df[rest_coupon_df['Restaurant20To50'].isin(['1~3', 'less1', 'never'])]\n",
    "greaterthan_3 = rest_coupon_df[rest_coupon_df['Restaurant20To50'].isin(['4~8', 'gt8'])]\n",
    "\n",
    "acceptance_rate_lessthan_equalto_3 = lessthan_equalto_3['Y'].mean()\n",
    "acceptance_rate_greaterthan_3 = greaterthan_3['Y'].mean()\n",
    "print(f'Acceptance Rate - 3 or fewer times: {acceptance_rate_lessthan_equalto_3 * 100:.2f}%')\n",
    "print(f'Acceptance Rate - more than 3 times: {acceptance_rate_greaterthan_3 * 100:.2f}%')"
   ]
  },
  {
   "cell_type": "markdown",
   "metadata": {},
   "source": [
    "3. Next I want to know whether there are differences in acceptance rate based on Income Level and Frequency of visit:"
   ]
  },
  {
   "cell_type": "code",
   "execution_count": 601,
   "metadata": {
    "id": "fTC2WGE3_qRL"
   },
   "outputs": [
    {
     "name": "stdout",
     "output_type": "stream",
     "text": [
      "Acceptance Rate - Less than $50k/yr, Greater than 4 visits: 74.60%\n",
      "Acceptance Rate - Less than $50k/yr, Less than 4 visits: 40.58%\n",
      "Acceptance Rate - Greater than $50k/yr, Greater than 4 visits: 53.33%\n",
      "Acceptance Rate - Greater than $50k/yr, Less than 4 visits: 44.44%\n"
     ]
    }
   ],
   "source": [
    "\n",
    "lt50_gt4 = rest_coupon_df[\n",
    "    (rest_coupon_df['Restaurant20To50'].isin(['4~8', 'gt8'])) &  \n",
    "    (rest_coupon_df['income'].isin(['Less than $12500', '$12500 - $24999', '$25000 - $37499', '$37500 - $49999']))\n",
    "]\n",
    "\n",
    "lt50_lt4 = rest_coupon_df[\n",
    "    (rest_coupon_df['Restaurant20To50'].isin(['1~3', 'less1', 'never'])) &  \n",
    "    (rest_coupon_df['income'].isin(['Less than $12500', '$12500 - $24999', '$25000 - $37499', '$37500 - $49999']))\n",
    "]\n",
    "\n",
    "\n",
    "gt50_gt4 = rest_coupon_df[\n",
    "    (rest_coupon_df['Restaurant20To50'].isin(['4~8', 'gt8'])) &  \n",
    "    (rest_coupon_df['income'].isin(['$50000 - $62499', '$62500 - $74999', '$75000 - $87499', '$87500 - $99999','$100000 or More']))\n",
    "]\n",
    "\n",
    "gt50_lt4 = rest_coupon_df[\n",
    "    (rest_coupon_df['Restaurant20To50'].isin(['1~3', 'less1', 'never'])) &  \n",
    "    (rest_coupon_df['income'].isin(['$50000 - $62499', '$62500 - $74999', '$75000 - $87499', '$87500 - $99999','$100000 or More']))\n",
    "]\n",
    "\n",
    "lt50_gt4_rate = lt50_gt4['Y'].mean()\n",
    "lt50_lt4_rate = lt50_lt4['Y'].mean()\n",
    "gt50_gt4_rate = gt50_gt4['Y'].mean()\n",
    "gt50_lt4_rate = gt50_lt4['Y'].mean()\n",
    "\n",
    "print(f'Acceptance Rate - Less than $50k/yr, Greater than 4 visits: {lt50_gt4_rate * 100:.2f}%')\n",
    "print(f'Acceptance Rate - Less than $50k/yr, Less than 4 visits: {lt50_lt4_rate * 100:.2f}%')\n",
    "print(f'Acceptance Rate - Greater than $50k/yr, Greater than 4 visits: {gt50_gt4_rate * 100:.2f}%')\n",
    "print(f'Acceptance Rate - Greater than $50k/yr, Less than 4 visits: {gt50_lt4_rate * 100:.2f}%')\n"
   ]
  },
  {
   "cell_type": "markdown",
   "metadata": {
    "id": "RrqUWn7d_qRL"
   },
   "source": [
    "4. I want to know if the acceptance rate is impacted by whether the person is single or not"
   ]
  },
  {
   "cell_type": "code",
   "execution_count": 605,
   "metadata": {
    "id": "_oykf8YP_qRL"
   },
   "outputs": [
    {
     "name": "stdout",
     "output_type": "stream",
     "text": [
      "Acceptance Rate - Single, Greater than 4 visits: 67.53%\n",
      "Acceptance Rate - Single, Less than 4 visits: 42.49%\n",
      "Acceptance Rate - Together, Greater than 4 visits: 58.70%\n",
      "Acceptance Rate - Together, Less than 4 visits: 42.82%\n"
     ]
    }
   ],
   "source": [
    "#print(rest_coupon_df.head())\n",
    "rest_coupon_df = rest_df[rest_df['Restaurant20To50'].notna() & (rest_df['Restaurant20To50'] != '')]\n",
    "\n",
    "single_gt4 = rest_coupon_df[\n",
    "    (rest_coupon_df['Restaurant20To50'].isin(['4~8', 'gt8'])) &  \n",
    "    (rest_coupon_df['maritalStatus'].isin(['Single', 'Divorced']))\n",
    "]\n",
    "\n",
    "single_lt4 = rest_coupon_df[\n",
    "    (rest_coupon_df['Restaurant20To50'].isin(['1~3', 'less1', 'never'])) &  \n",
    "    (rest_coupon_df['maritalStatus'].isin(['Single', 'Divorced']))\n",
    "]\n",
    "\n",
    "\n",
    "together_gt4 = rest_coupon_df[\n",
    "    (rest_coupon_df['Restaurant20To50'].isin(['4~8', 'gt8'])) &  \n",
    "    (rest_coupon_df['maritalStatus'].isin(['Married partner', 'Unmarried partner']))\n",
    "]\n",
    "\n",
    "together_lt4 = rest_coupon_df[\n",
    "    (rest_coupon_df['Restaurant20To50'].isin(['1~3', 'less1', 'never'])) &  \n",
    "    (rest_coupon_df['maritalStatus'].isin(['Married partner', 'Unmarried partner']))\n",
    "]\n",
    "\n",
    "single_gt4_rate = single_gt4['Y'].mean()\n",
    "single_lt4_rate = single_lt4['Y'].mean()\n",
    "together_gt4_rate = together_gt4['Y'].mean()\n",
    "together_lt4_rate = together_lt4['Y'].mean()\n",
    "\n",
    "print(f'Acceptance Rate - Single, Greater than 4 visits: {single_gt4_rate * 100:.2f}%')\n",
    "print(f'Acceptance Rate - Single, Less than 4 visits: {single_lt4_rate * 100:.2f}%')\n",
    "print(f'Acceptance Rate - Together, Greater than 4 visits: {together_gt4_rate * 100:.2f}%')\n",
    "print(f'Acceptance Rate - Together, Less than 4 visits: {together_lt4_rate * 100:.2f}%')"
   ]
  },
  {
   "cell_type": "markdown",
   "metadata": {},
   "source": [
    "5. Now I'm curious if the cost of the restaurant makes a difference in these acceptance rates, so I'll do the same analysis for the cheaper restaurant"
   ]
  },
  {
   "cell_type": "code",
   "execution_count": 611,
   "metadata": {},
   "outputs": [
    {
     "name": "stdout",
     "output_type": "stream",
     "text": [
      "Acceptance Rate - Less than $50k/yr, Greater than 4 visits: 47.15%\n",
      "Acceptance Rate - Less than $50k/yr, Less than 4 visits: 40.64%\n",
      "Acceptance Rate - Greater than $50k/yr, Greater than 4 visits: 49.12%\n",
      "Acceptance Rate - Greater than $50k/yr, Less than 4 visits: 42.07%\n"
     ]
    }
   ],
   "source": [
    "rest_coupon_df2 = rest_df[rest_df['RestaurantLessThan20'].notna() & (rest_df['RestaurantLessThan20'] != '')]\n",
    "\n",
    "lt50_gt4 = rest_coupon_df2[\n",
    "    (rest_coupon_df2['RestaurantLessThan20'].isin(['4~8', 'gt8'])) &  \n",
    "    (rest_coupon_df2['income'].isin(['Less than $12500', '$12500 - $24999', '$25000 - $37499', '$37500 - $49999']))\n",
    "]\n",
    "\n",
    "lt50_lt4 = rest_coupon_df2[\n",
    "    (rest_coupon_df2['RestaurantLessThan20'].isin(['1~3', 'less1', 'never'])) &  \n",
    "    (rest_coupon_df2['income'].isin(['Less than $12500', '$12500 - $24999', '$25000 - $37499', '$37500 - $49999']))\n",
    "]\n",
    "\n",
    "\n",
    "gt50_gt4 = rest_coupon_df2[\n",
    "    (rest_coupon_df2['RestaurantLessThan20'].isin(['4~8', 'gt8'])) &  \n",
    "    (rest_coupon_df2['income'].isin(['$50000 - $62499', '$62500 - $74999', '$75000 - $87499', '$87500 - $99999','$100000 or More']))\n",
    "]\n",
    "\n",
    "gt50_lt4 = rest_coupon_df2[\n",
    "    (rest_coupon_df2['RestaurantLessThan20'].isin(['1~3', 'less1', 'never'])) &  \n",
    "    (rest_coupon_df2['income'].isin(['$50000 - $62499', '$62500 - $74999', '$75000 - $87499', '$87500 - $99999','$100000 or More']))\n",
    "]\n",
    "\n",
    "lt50_gt4_rate = lt50_gt4['Y'].mean()\n",
    "lt50_lt4_rate = lt50_lt4['Y'].mean()\n",
    "gt50_gt4_rate = gt50_gt4['Y'].mean()\n",
    "gt50_lt4_rate = gt50_lt4['Y'].mean()\n",
    "\n",
    "print(f'Acceptance Rate - Less than $50k/yr, Greater than 4 visits: {lt50_gt4_rate * 100:.2f}%')\n",
    "print(f'Acceptance Rate - Less than $50k/yr, Less than 4 visits: {lt50_lt4_rate * 100:.2f}%')\n",
    "print(f'Acceptance Rate - Greater than $50k/yr, Greater than 4 visits: {gt50_gt4_rate * 100:.2f}%')\n",
    "print(f'Acceptance Rate - Greater than $50k/yr, Less than 4 visits: {gt50_lt4_rate * 100:.2f}%')"
   ]
  },
  {
   "cell_type": "code",
   "execution_count": 613,
   "metadata": {},
   "outputs": [
    {
     "name": "stdout",
     "output_type": "stream",
     "text": [
      "Acceptance Rate - Single, Greater than 4 visits: 48.71%\n",
      "Acceptance Rate - Single, Less than 4 visits: 43.32%\n",
      "Acceptance Rate - Together, Greater than 4 visits: 47.59%\n",
      "Acceptance Rate - Together, Less than 4 visits: 40.54%\n"
     ]
    }
   ],
   "source": [
    "\n",
    "\n",
    "single_gt4 = rest_coupon_df2[\n",
    "    (rest_coupon_df2['RestaurantLessThan20'].isin(['4~8', 'gt8'])) &  \n",
    "    (rest_coupon_df2['maritalStatus'].isin(['Single', 'Divorced']))\n",
    "]\n",
    "\n",
    "single_lt4 = rest_coupon_df2[\n",
    "    (rest_coupon_df2['RestaurantLessThan20'].isin(['1~3', 'less1', 'never'])) &  \n",
    "    (rest_coupon_df2['maritalStatus'].isin(['Single', 'Divorced']))\n",
    "]\n",
    "\n",
    "\n",
    "together_gt4 = rest_coupon_df2[\n",
    "    (rest_coupon_df2['RestaurantLessThan20'].isin(['4~8', 'gt8'])) &  \n",
    "    (rest_coupon_df2['maritalStatus'].isin(['Married partner', 'Unmarried partner']))\n",
    "]\n",
    "\n",
    "together_lt4 = rest_coupon_df2[\n",
    "    (rest_coupon_df2['RestaurantLessThan20'].isin(['1~3', 'less1', 'never'])) &  \n",
    "    (rest_coupon_df2['maritalStatus'].isin(['Married partner', 'Unmarried partner']))\n",
    "]\n",
    "\n",
    "single_gt4_rate = single_gt4['Y'].mean()\n",
    "single_lt4_rate = single_lt4['Y'].mean()\n",
    "together_gt4_rate = together_gt4['Y'].mean()\n",
    "together_lt4_rate = together_lt4['Y'].mean()\n",
    "\n",
    "print(f'Acceptance Rate - Single, Greater than 4 visits: {single_gt4_rate * 100:.2f}%')\n",
    "print(f'Acceptance Rate - Single, Less than 4 visits: {single_lt4_rate * 100:.2f}%')\n",
    "print(f'Acceptance Rate - Together, Greater than 4 visits: {together_gt4_rate * 100:.2f}%')\n",
    "print(f'Acceptance Rate - Together, Less than 4 visits: {together_lt4_rate * 100:.2f}%')"
   ]
  },
  {
   "cell_type": "markdown",
   "metadata": {},
   "source": [
    "6.  It appears that there is a statistically significant acceptance rate difference that seems largely due to the cost of the restaurant rather than major differences in demographics.  Respondents making less than $50k seem more likely to accept a coupon if they already frequently dine out, and are more likely to do so if they're single, but only slightly.  Frequency of dining out seems to be a larger factor than income and marital status."
   ]
  },
  {
   "cell_type": "markdown",
   "metadata": {},
   "source": []
  }
 ],
 "metadata": {
  "colab": {
   "provenance": []
  },
  "kernelspec": {
   "display_name": "Python 3 (ipykernel)",
   "language": "python",
   "name": "python3"
  },
  "language_info": {
   "codemirror_mode": {
    "name": "ipython",
    "version": 3
   },
   "file_extension": ".py",
   "mimetype": "text/x-python",
   "name": "python",
   "nbconvert_exporter": "python",
   "pygments_lexer": "ipython3",
   "version": "3.12.4"
  },
  "panel-cell-order": [
   "49954460",
   "00d9c8f5",
   "9150f136",
   "ca7871cd",
   "13841b5d",
   "06350025",
   "c0e0677e",
   "92a05363",
   "6dc49191",
   "172e6719",
   "9ed03859",
   "dac11de4",
   "7d62dcb7",
   "9945ff7a",
   "84e90ebb",
   "b30f8e1a",
   "02f2b2a1",
   "8ac7ce7e",
   "cb1a6e0c",
   "b7597f5a",
   "b19c241d",
   "dd164a39",
   "50810089",
   "a3f9127e",
   "4ccc74c6",
   "c2035f34",
   "19c33d7f",
   "9e14f683"
  ]
 },
 "nbformat": 4,
 "nbformat_minor": 4
}
